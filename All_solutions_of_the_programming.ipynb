{
  "nbformat": 4,
  "nbformat_minor": 0,
  "metadata": {
    "colab": {
      "provenance": []
    },
    "kernelspec": {
      "name": "python3",
      "display_name": "Python 3"
    },
    "language_info": {
      "name": "python"
    }
  },
  "cells": [
    {
      "cell_type": "markdown",
      "source": [
        "# ***Question 1 debugged***"
      ],
      "metadata": {
        "id": "9dE00MdbDwV6"
      }
    },
    {
      "cell_type": "code",
      "source": [
        "\n",
        "#Here is the correct answer i have tried\n",
        "#some problems found in this program are:\n",
        "#idx += 1 line should be outside the if block, and second, the fruit_id should be compared with the idx after the return statement and the  the idx += 1 line is placed outside the if block, and the raise RuntimeError line is outside the loop, ensuring it is only raised if the loop completes without finding a match for the given fruit_id.\n",
        "# You can copy this code to your personal pipeline project or execute it here.\n",
        "def id_to_fruit(fruit_id: int, fruits: Set[str]) -> str:\n",
        "    idx = 0\n",
        "    for fruit in fruits:\n",
        "        if fruit_id == idx:\n",
        "            return fruit\n",
        "        idx += 1\n",
        "    raise RuntimeError(f\"Fruit with id {fruit_id} does not exist\")\n",
        "\n",
        "name1 = id_to_fruit(1, {\"apple\", \"orange\", \"melon\", \"kiwi\", \"strawberry\"})\n",
        "name3 = id_to_fruit(3, {\"apple\", \"orange\", \"melon\", \"kiwi\", \"strawberry\"})\n",
        "name4 = id_to_fruit(4, {\"apple\", \"orange\", \"melon\", \"kiwi\", \"strawberry\"})\n",
        "\n",
        "print(name1)  # Expected output: 'orange'\n",
        "print(name3)  # Expected output: 'kiwi'\n",
        "print(name4)  # Expected output: 'strawberry'"
      ],
      "metadata": {
        "colab": {
          "base_uri": "https://localhost:8080/"
        },
        "id": "zjB0KJf3DnP0",
        "outputId": "62a03638-1fdd-4ac9-847c-e10de61b2d2e"
      },
      "execution_count": 32,
      "outputs": [
        {
          "output_type": "stream",
          "name": "stdout",
          "text": [
            "strawberry\n",
            "kiwi\n",
            "apple\n"
          ]
        }
      ]
    },
    {
      "cell_type": "markdown",
      "source": [
        "# **Question 2 Debugged**"
      ],
      "metadata": {
        "id": "tRxd8QVhEIUj"
      }
    },
    {
      "cell_type": "code",
      "source": [
        "#Here we are going to swap x and y values\n",
        "\n",
        "#some found problems are: indexing of the coordinates when swapping, once the problem is solved, the swap function should correctly flip the x and y coordinates in the coords array.\n",
        "\n",
        "\n",
        "import numpy as np\n",
        "def swap(coords: np.ndarray):\n",
        "#wrong way\n",
        "  \"\"\"coords[:, 0], coords[:, 1], coords[:, 2], coords[:, 3], = coords[:, 1], coords[:, 1], coords[:, 3], coords[:, 2]\n",
        "  return coords\"\"\"\n",
        "#correct answer for this problem\n",
        "\n",
        "  coords[:, [0, 1, 2, 3]] = coords[:, [1, 0, 3, 2]]\n",
        "  return coords"
      ],
      "metadata": {
        "id": "TmuHwW5eEOuc"
      },
      "execution_count": 34,
      "outputs": []
    },
    {
      "cell_type": "markdown",
      "source": [
        "# **Question 3 Debugged**"
      ],
      "metadata": {
        "id": "yQ_WRTg8EV64"
      }
    },
    {
      "cell_type": "code",
      "source": [
        "def plot_data(csv_file_path: str):\n",
        "    # load data\n",
        "    results = []\n",
        "    with open(csv_file_path) as result_csv:\n",
        "        csv_reader = csv.reader(result_csv, delimiter=',')\n",
        "        next(csv_reader)\n",
        "        for row in csv_reader:\n",
        "            results.append([float(value) for value in row])  # Convert values to float\n",
        "        results = np.array(results)\n",
        "\n",
        "    # plot precision-recall curve\n",
        "    plt.plot(results[:, 1], results[:, 0])\n",
        "    plt.ylim([-0.05, 1.05])\n",
        "    plt.xlim([-0.05, 1.05])\n",
        "    plt.xlabel('Recall')\n",
        "    plt.ylabel('Precision')\n",
        "    plt.show()\n",
        "\n",
        "f = open(\"data_file.csv\", \"w\")\n",
        "w = csv.writer(f)\n",
        "_ = w.writerow([\"precision\", \"recall\"])\n",
        "w.writerows([[0.013,0.951],\n",
        "             [0.376,0.851],\n",
        "             [0.441,0.839],\n",
        "             [0.570,0.758],\n",
        "             [0.635,0.674],\n",
        "             [0.721,0.604],\n",
        "             [0.837,0.531],\n",
        "             [0.860,0.453],\n",
        "             [0.962,0.348],\n",
        "             [0.982,0.273],\n",
        "             [1.0,0.0]])\n",
        "f.close()\n",
        "plot_data('data_file.csv')\n"
      ],
      "metadata": {
        "colab": {
          "base_uri": "https://localhost:8080/",
          "height": 449
        },
        "id": "h47nt3RTExeq",
        "outputId": "d2b999b7-6db8-4694-a59c-83b966acf5c1"
      },
      "execution_count": 37,
      "outputs": [
        {
          "output_type": "display_data",
          "data": {
            "text/plain": [
              "<Figure size 640x480 with 1 Axes>"
            ],
            "image/png": "[encoded data removed]"
          },
          "metadata": {}
        }
      ]
    },
    {
      "cell_type": "markdown",
      "source": [
        "# Question 4 Debugged but complicated to make some moves"
      ],
      "metadata": {
        "id": "BTUkIekyE5dT"
      }
    },
    {
      "cell_type": "code",
      "source": [
        "#Here are the two main issues found in the code:\n",
        "#Structural Bug: Batch Size Mismatch in Discriminator Output:\n",
        "#When changing the batch size from 32 to 64, you will encounter a structural bug related to the size of the output tensor from the discriminator.\n",
        "#To fix this, you need to ensure that the output tensor size matches the size of all_samples_labels by modifying the discriminator output layer.\n",
        "#Cosmetic Bug: Incorrect Discriminator Output Labeling:\n",
        "#There is a cosmetic bug where the labels for the generated samples in the discriminator training step are incorrectly set to real_samples_labels.\n",
        "#This should be corrected to generated_samples_labels to ensure proper training.\n",
        "# Inside the Discriminator class, modify the output layer to match the size.\n",
        "\n",
        "class Discriminator(nn.Module):\n",
        "    def __init__(self):\n",
        "        super(Discriminator, self).__init__()\n",
        "        self.model = nn.Sequential(\n",
        "            nn.Linear(28 * 28, 1024),\n",
        "            nn.LeakyReLU(0.2, inplace=True),\n",
        "            nn.Dropout(0.3),\n",
        "            nn.Linear(1024, 512),\n",
        "            nn.LeakyReLU(0.2, inplace=True),\n",
        "            nn.Dropout(0.3),\n",
        "            nn.Linear(512, 256),\n",
        "            nn.LeakyReLU(0.2, inplace=True),\n",
        "            nn.Dropout(0.3),\n",
        "            nn.Linear(256, 1),  # Output layer size changed to 1\n",
        "            nn.Sigmoid()\n",
        "        )\n",
        "\n",
        "# Inside the training loop, fix the label for generated samples\n",
        "for epoch in range(num_epochs):\n",
        "    for n, (real_samples, mnist_labels) in enumerate(train_loader):\n",
        "\n",
        "        # Training the generator\n",
        "        generator.zero_grad()\n",
        "        generated_samples = generator(latent_space_samples)\n",
        "        output_discriminator_generated = discriminator(generated_samples)\n",
        "\n",
        "        # Fix: Use generated_samples_labels for generator training\n",
        "        loss_generator = loss_function(output_discriminator_generated, generated_samples_labels)\n",
        "\n",
        "        loss_generator.backward()\n",
        "        optimizer_generator.step()"
      ],
      "metadata": {
        "id": "3OJd118GFAfx"
      },
      "execution_count": null,
      "outputs": []
    }
  ]
}